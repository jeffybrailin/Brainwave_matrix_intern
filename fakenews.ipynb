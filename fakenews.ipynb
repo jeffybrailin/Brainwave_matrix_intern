{
  "nbformat": 4,
  "nbformat_minor": 0,
  "metadata": {
    "colab": {
      "provenance": [],
      "gpuType": "T4"
    },
    "kernelspec": {
      "name": "python3",
      "display_name": "Python 3"
    },
    "language_info": {
      "name": "python"
    },
    "accelerator": "GPU"
  },
  "cells": [
    {
      "cell_type": "code",
      "source": [
        "# Import necessary libraries\n",
        "import pandas as pd\n",
        "import numpy as np\n",
        "import matplotlib.pyplot as plt\n",
        "import seaborn as sns\n",
        "import re\n",
        "from sklearn.model_selection import train_test_split\n",
        "from sklearn.feature_extraction.text import TfidfVectorizer\n",
        "from sklearn.linear_model import LogisticRegression\n",
        "from sklearn.svm import SVC\n",
        "from sklearn.metrics import accuracy_score, classification_report, confusion_matrix\n",
        "import joblib\n",
        "import warnings\n",
        "# Import MultinomialNB\n",
        "from sklearn.naive_bayes import MultinomialNB # This line imports the MultinomialNB class.\n",
        "warnings.filterwarnings('ignore')"
      ],
      "metadata": {
        "id": "wmqlGAHWeISJ"
      },
      "execution_count": null,
      "outputs": []
    },
    {
      "cell_type": "code",
      "source": [
        "# Load the dataset\n",
        "data = pd.read_csv('train.csv')"
      ],
      "metadata": {
        "id": "nzzcKMjXFdgM"
      },
      "execution_count": null,
      "outputs": []
    },
    {
      "cell_type": "code",
      "source": [
        "\n",
        "# Data exploration\n",
        "print(\"Dataset Shape:\", data.shape)\n",
        "print(\"Dataset Columns:\", data.columns)\n",
        "print(\"First 5 Rows:\\n\", data.head())"
      ],
      "metadata": {
        "id": "XoeDq-gZHbc3",
        "colab": {
          "base_uri": "https://localhost:8080/"
        },
        "outputId": "09954350-d5c8-403b-d46f-ae00d9ea60f7"
      },
      "execution_count": null,
      "outputs": [
        {
          "output_type": "stream",
          "name": "stdout",
          "text": [
            "Dataset Shape: (20800, 5)\n",
            "Dataset Columns: Index(['id', 'title', 'author', 'text', 'label'], dtype='object')\n",
            "First 5 Rows:\n",
            "    id                                              title              author  \\\n",
            "0   0  House Dem Aide: We Didn’t Even See Comey’s Let...       Darrell Lucus   \n",
            "1   1  FLYNN: Hillary Clinton, Big Woman on Campus - ...     Daniel J. Flynn   \n",
            "2   2                  Why the Truth Might Get You Fired  Consortiumnews.com   \n",
            "3   3  15 Civilians Killed In Single US Airstrike Hav...     Jessica Purkiss   \n",
            "4   4  Iranian woman jailed for fictional unpublished...      Howard Portnoy   \n",
            "\n",
            "                                                text  label  \n",
            "0  House Dem Aide: We Didn’t Even See Comey’s Let...      1  \n",
            "1  Ever get the feeling your life circles the rou...      0  \n",
            "2  Why the Truth Might Get You Fired October 29, ...      1  \n",
            "3  Videos 15 Civilians Killed In Single US Airstr...      1  \n",
            "4  Print \\nAn Iranian woman has been sentenced to...      1  \n"
          ]
        }
      ]
    },
    {
      "cell_type": "code",
      "source": [
        "# Combine relevant columns for the final text data\n",
        "data['combined_text'] = data['author'] + ' ' + data['title'] + ' ' + data['text']"
      ],
      "metadata": {
        "id": "-bx5cZhGKfsf"
      },
      "execution_count": null,
      "outputs": []
    },
    {
      "cell_type": "code",
      "source": [
        "# Check for missing values\n",
        "missing_values = data.isnull().sum()\n",
        "print(\"Missing Values per Column:\\n\", missing_values)"
      ],
      "metadata": {
        "id": "xSnpMoAfP2iz",
        "colab": {
          "base_uri": "https://localhost:8080/"
        },
        "outputId": "f82dbe7a-8cc4-4525-8d37-5fc138c104be"
      },
      "execution_count": null,
      "outputs": [
        {
          "output_type": "stream",
          "name": "stdout",
          "text": [
            "Missing Values per Column:\n",
            " id                  0\n",
            "title             558\n",
            "author           1957\n",
            "text               39\n",
            "label               0\n",
            "combined_text    2515\n",
            "dtype: int64\n"
          ]
        }
      ]
    },
    {
      "cell_type": "code",
      "source": [
        "\n",
        "# Handle missing values\n",
        "data.fillna('', inplace=True)\n",
        "\n",
        "# Clean text data\n",
        "def clean_text(text):\n",
        "    text = re.sub(r'[^a-zA-Z0-9\\s]', '', text)  # Remove special characters\n",
        "    text = re.sub(r'\\s+', ' ', text).strip()  # Remove extra whitespaces\n",
        "    text = text.lower()  # Convert to lowercase\n",
        "    return text\n",
        "\n"
      ],
      "metadata": {
        "id": "IGnznX_0GD-p"
      },
      "execution_count": null,
      "outputs": []
    },
    {
      "cell_type": "code",
      "source": [
        "# Apply text cleaning\n",
        "data['cleaned_text'] = data['combined_text'].apply(clean_text)\n",
        "\n",
        "# Check cleaned text\n",
        "print(\"Cleaned Text Sample:\\n\", data['cleaned_text'].head())"
      ],
      "metadata": {
        "id": "VwOpObzp-9Eu",
        "colab": {
          "base_uri": "https://localhost:8080/"
        },
        "outputId": "3456010e-83e3-4c54-eb46-7e6e84d962a6"
      },
      "execution_count": null,
      "outputs": [
        {
          "output_type": "stream",
          "name": "stdout",
          "text": [
            "Cleaned Text Sample:\n",
            " 0    darrell lucus house dem aide we didnt even see...\n",
            "1    daniel j flynn flynn hillary clinton big woman...\n",
            "2    consortiumnewscom why the truth might get you ...\n",
            "3    jessica purkiss 15 civilians killed in single ...\n",
            "4    howard portnoy iranian woman jailed for fictio...\n",
            "Name: cleaned_text, dtype: object\n"
          ]
        }
      ]
    },
    {
      "cell_type": "code",
      "source": [
        "# Vectorize the text data using TF-IDF\n",
        "vectorizer = TfidfVectorizer(stop_words='english', max_features=10000, ngram_range=(1,2))\n",
        "\n",
        "# Fit and transform the cleaned text\n",
        "X = vectorizer.fit_transform(data['cleaned_text'])\n",
        "y = data['label']  # Target variable\n",
        "\n",
        "# Save the vectorizer for future use\n",
        "joblib.dump(vectorizer, 'tfidf_vectorizer.pkl')\n",
        "\n",
        "# Check the shape of the transformed data\n",
        "print(\"TF-IDF Matrix Shape:\", X.shape)\n"
      ],
      "metadata": {
        "id": "FvBT8aWbOUFi",
        "colab": {
          "base_uri": "https://localhost:8080/"
        },
        "outputId": "96e3fdd8-2fe2-4252-d74b-b73df3d909c6"
      },
      "execution_count": null,
      "outputs": [
        {
          "output_type": "stream",
          "name": "stdout",
          "text": [
            "TF-IDF Matrix Shape: (20800, 10000)\n"
          ]
        }
      ]
    },
    {
      "cell_type": "code",
      "source": [
        "# Split the data into train and test sets (80% train, 20% test)\n",
        "X_train, X_test, y_train, y_test = train_test_split(X, y, test_size=0.2, random_state=42, stratify=y)\n",
        "\n",
        "print(\"Training Data Shape:\", X_train.shape)\n",
        "print(\"Testing Data Shape:\", X_test.shape)\n"
      ],
      "metadata": {
        "id": "_ifilnvAS6dI",
        "colab": {
          "base_uri": "https://localhost:8080/"
        },
        "outputId": "a77476c9-c1dd-491e-bc1d-65243fd6dd1e"
      },
      "execution_count": null,
      "outputs": [
        {
          "output_type": "stream",
          "name": "stdout",
          "text": [
            "Training Data Shape: (16640, 10000)\n",
            "Testing Data Shape: (4160, 10000)\n"
          ]
        }
      ]
    },
    {
      "source": [
        "# Train Logistic Regression model\n",
        "log_model = LogisticRegression(max_iter=1000, solver='lbfgs')\n",
        "log_model.fit(X_train, y_train)\n",
        "\n",
        "# Predictions\n",
        "y_pred_log = log_model.predict(X_test)\n",
        "\n",
        "# Evaluate the model\n",
        "print(\"Logistic Regression Accuracy:\", accuracy_score(y_test, y_pred_log))\n",
        "print(\"Classification Report:\\n\", classification_report(y_test, y_pred_log))\n",
        "\n",
        "# Removed the misplaced line causing the IndentationError\n",
        "# and commented out the incomplete custom prediction logic.\n",
        "# If you intend to use custom prediction logic, ensure\n",
        "# 'probs' and 'threshold' are defined correctly within\n",
        "# the relevant context (e.g., a function or loop).\n",
        "#y_pred_custom = (probs >= threshold).astype(int)\n",
        "\n",
        "log_model.fit(X_train, y_train)\n",
        "\n",
        "# Predictions\n",
        "y_pred_log = log_model.predict(X_test)\n",
        "\n",
        "# Evaluate the model\n",
        "print(\"Logistic Regression Accuracy:\", accuracy_score(y_test, y_pred_log))\n",
        "print(\"Classification Report:\\n\", classification_report(y_test, y_pred_log))"
      ],
      "cell_type": "code",
      "metadata": {
        "colab": {
          "base_uri": "https://localhost:8080/"
        },
        "id": "Qdum1ZY_xt9w",
        "outputId": "b2c37a17-131b-4456-e8be-5d620ae81fb2"
      },
      "execution_count": null,
      "outputs": [
        {
          "output_type": "stream",
          "name": "stdout",
          "text": [
            "Logistic Regression Accuracy: 0.9615384615384616\n",
            "Classification Report:\n",
            "               precision    recall  f1-score   support\n",
            "\n",
            "           0       0.97      0.95      0.96      2077\n",
            "           1       0.96      0.97      0.96      2083\n",
            "\n",
            "    accuracy                           0.96      4160\n",
            "   macro avg       0.96      0.96      0.96      4160\n",
            "weighted avg       0.96      0.96      0.96      4160\n",
            "\n",
            "Logistic Regression Accuracy: 0.9615384615384616\n",
            "Classification Report:\n",
            "               precision    recall  f1-score   support\n",
            "\n",
            "           0       0.97      0.95      0.96      2077\n",
            "           1       0.96      0.97      0.96      2083\n",
            "\n",
            "    accuracy                           0.96      4160\n",
            "   macro avg       0.96      0.96      0.96      4160\n",
            "weighted avg       0.96      0.96      0.96      4160\n",
            "\n"
          ]
        }
      ]
    },
    {
      "cell_type": "code",
      "source": [
        "# Save the model\n",
        "joblib.dump(log_model, 'logistic_regression_model.pkl')\n",
        "print(\"Logistic Regression model saved.\")\n"
      ],
      "metadata": {
        "id": "2-BY556vuv2Z",
        "colab": {
          "base_uri": "https://localhost:8080/"
        },
        "outputId": "f347b913-879f-4e34-9e93-51ba24eaecf7"
      },
      "execution_count": null,
      "outputs": [
        {
          "output_type": "stream",
          "name": "stdout",
          "text": [
            "Logistic Regression model saved.\n"
          ]
        }
      ]
    },
    {
      "source": [
        "# Train Naïve Bayes model\n",
        "nb_model = MultinomialNB()\n",
        "nb_model.fit(X_train, y_train)\n",
        "\n",
        "# Predict on the test data, not the training data\n",
        "nb_preds = nb_model.predict(X_test)  # Changed from X_train to X_test\n",
        "\n",
        "# Evaluate\n",
        "print(\"📊 Naïve Bayes Performance:\")\n",
        "print(classification_report(y_test, nb_preds))\n",
        "print(\"Accuracy:\", accuracy_score(y_test, nb_preds))"
      ],
      "cell_type": "code",
      "metadata": {
        "colab": {
          "base_uri": "https://localhost:8080/"
        },
        "id": "QXRD6nAPOJIx",
        "outputId": "8805cc53-3683-4aa0-abf1-b7b671888663"
      },
      "execution_count": null,
      "outputs": [
        {
          "output_type": "stream",
          "name": "stdout",
          "text": [
            "📊 Naïve Bayes Performance:\n",
            "              precision    recall  f1-score   support\n",
            "\n",
            "           0       0.92      0.95      0.94      2077\n",
            "           1       0.95      0.92      0.94      2083\n",
            "\n",
            "    accuracy                           0.94      4160\n",
            "   macro avg       0.94      0.94      0.94      4160\n",
            "weighted avg       0.94      0.94      0.94      4160\n",
            "\n",
            "Accuracy: 0.9360576923076923\n"
          ]
        }
      ]
    },
    {
      "cell_type": "code",
      "source": [
        "# Compare accuracy scores\n",
        "log_accuracy = accuracy_score(y_test, y_pred_log)\n",
        "nb_accuracy = accuracy_score(y_test, nb_preds)\n",
        "\n",
        "comparison_df = pd.DataFrame({\n",
        "    'Model': ['Logistic Regression', 'Support Vector Machine'],\n",
        "    'Accuracy': [log_accuracy, nb_accuracy]\n",
        "})\n",
        "\n",
        "print(comparison_df)\n",
        "\n",
        "# Visualization\n",
        "plt.figure(figsize=(6,4))\n",
        "sns.barplot(x='Model', y='Accuracy', data=comparison_df, palette='coolwarm')\n",
        "plt.title('Model Comparison')\n",
        "plt.ylim(0.5, 1.0)\n",
        "plt.show()\n"
      ],
      "metadata": {
        "id": "omBM4DW8VCzo",
        "colab": {
          "base_uri": "https://localhost:8080/",
          "height": 462
        },
        "outputId": "3b4546fb-e291-46a0-b927-caaa9ffa33aa"
      },
      "execution_count": null,
      "outputs": [
        {
          "output_type": "stream",
          "name": "stdout",
          "text": [
            "                    Model  Accuracy\n",
            "0     Logistic Regression  0.961538\n",
            "1  Support Vector Machine  0.936058\n"
          ]
        },
        {
          "output_type": "display_data",
          "data": {
            "text/plain": [
              "<Figure size 600x400 with 1 Axes>"
            ],
            "image/png": "[encoded data removed]"
          },
          "metadata": {}
        }
      ]
    },
    {
      "cell_type": "code",
      "source": [
        "# Sample new data for prediction\n",
        "new_texts = [\n",
        "    \"NASA successfully launched a new satellite designed to study climate change from space.\",\n",
        "\"Researchers have found a potential cure for a common type of cancer, providing hope to millions.\",\n",
        "\"Local authorities have announced plans to build new parks and recreational areas for the city's residents.\",\n",
        "\"A new report reveals that global literacy rates have reached their highest levels in history.\",\n",
        "\"Scientists are warning about the rapid decline of bee populations, which could affect global agriculture.\",\n",
        "\"A secret society of world leaders has been manipulating global events for decades, according to new leaked documents.\",\n",
        "\"A new cryptocurrency, backed by a mysterious billionaire, is set to replace traditional money by next year.\",\n",
        "\"Government officials are secretly building underground bunkers to protect against an impending alien invasion.\",\n",
        "\"Climate change experts claim that ice caps are melting faster than previously predicted, causing global sea levels to rise dramatically.\",\n",
        "\"Reports have surfaced that the moon landing in 1969 was staged and never actually occurred.\"\n",
        "\n",
        "]\n",
        "\n",
        "# Preprocess and vectorize the new data\n",
        "new_texts_cleaned = [clean_text(text) for text in new_texts]\n",
        "new_texts_tfidf = vectorizer.transform(new_texts_cleaned)\n",
        "\n",
        "# Predict using nb\n",
        "nb_prediction = nb_model.predict(new_texts_tfidf)\n",
        "print(\"SVM Predictions:\", nb_prediction)\n",
        "\n",
        "# Predict using Logistic Regression\n",
        "log_prediction = log_model.predict(new_texts_tfidf)\n",
        "print(\"Logistic Regression Predictions:\", log_prediction)\n"
      ],
      "metadata": {
        "id": "SKaRzZeuVCqs",
        "colab": {
          "base_uri": "https://localhost:8080/"
        },
        "outputId": "1144c1ad-18ca-49e3-b283-8b591a437c52"
      },
      "execution_count": null,
      "outputs": [
        {
          "output_type": "stream",
          "name": "stdout",
          "text": [
            "SVM Predictions: [1 1 0 1 1 1 1 1 0 1]\n",
            "Logistic Regression Predictions: [1 1 1 1 1 1 1 1 1 1]\n"
          ]
        }
      ]
    },
    {
      "cell_type": "code",
      "source": [
        "# Save the model\n",
        "joblib.dump(nb_model, 'nb_model.pkl')\n",
        "print(\"NB model saved.\")\n"
      ],
      "metadata": {
        "id": "_jvc9RyHVCf5",
        "colab": {
          "base_uri": "https://localhost:8080/"
        },
        "outputId": "c9caf5c7-509e-4822-aef6-25558f8b9e31"
      },
      "execution_count": null,
      "outputs": [
        {
          "output_type": "stream",
          "name": "stdout",
          "text": [
            "NB model saved.\n"
          ]
        }
      ]
    },
    {
      "cell_type": "code",
      "source": [],
      "metadata": {
        "id": "Z5cUIZyRVCYO"
      },
      "execution_count": null,
      "outputs": []
    },
    {
      "cell_type": "code",
      "source": [],
      "metadata": {
        "id": "ZZP6wgZ2VCIN"
      },
      "execution_count": null,
      "outputs": []
    },
    {
      "cell_type": "code",
      "source": [],
      "metadata": {
        "id": "F7FHHPVZVCAX"
      },
      "execution_count": null,
      "outputs": []
    },
    {
      "cell_type": "code",
      "source": [],
      "metadata": {
        "id": "BI_oKOmtVB3z"
      },
      "execution_count": null,
      "outputs": []
    },
    {
      "cell_type": "code",
      "source": [],
      "metadata": {
        "id": "HhtgaXwZVBcp"
      },
      "execution_count": null,
      "outputs": []
    }
  ]
}